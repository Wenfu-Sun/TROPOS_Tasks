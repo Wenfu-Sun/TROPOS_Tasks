{
 "cells": [
  {
   "cell_type": "markdown",
   "id": "e11d9db6",
   "metadata": {},
   "source": [
    "# Task 1\n",
    "\n",
    "**Creation of a graphical overview of the field experiments and its times of deployment for a selection of measurement instruments.**\n",
    "\n",
    "Wenfu Sun 2021-07-01"
   ]
  },
  {
   "cell_type": "markdown",
   "id": "1fe570c1",
   "metadata": {},
   "source": [
    "## 1. Load modules\n",
    "\n",
    "Here I use `python-gantt` to plot the gantt chart. `cairosvg` is used to convert the figure format from `svg` to `png`.\n",
    "\n",
    "You may use `pip install python-gantt cairosvg` to install them."
   ]
  },
  {
   "cell_type": "code",
   "execution_count": 1,
   "id": "f1efd837",
   "metadata": {},
   "outputs": [],
   "source": [
    "import os\n",
    "import gantt\n",
    "import cairosvg\n",
    "import pandas as pd\n",
    "from IPython.display import SVG\n",
    "from datetime import datetime as date"
   ]
  },
  {
   "cell_type": "markdown",
   "id": "166e0fcc",
   "metadata": {},
   "source": [
    "## 2. Data preparation\n",
    "\n",
    "- First, I use `pandas` to load the two `csv` files. \n",
    "- Second, the time is converted into `datetime64` object.\n",
    "- Third, replace the instrument index in `compaigns_info` with the actual instrument name by the `instrument_info`."
   ]
  },
  {
   "cell_type": "code",
   "execution_count": 2,
   "id": "0964f659",
   "metadata": {},
   "outputs": [],
   "source": [
    "# Read 'Tab_1-Instruments.csv' and 'Tab_2-Campaigns.csv' \n",
    "instrument_info = pd.read_csv(filepath_or_buffer=os.path.join('Data', '01-Field_experiment_overview', 'Tab_1-Instruments.csv'),\n",
    "                              sep=';')\n",
    "campaigns_info  = pd.read_csv(filepath_or_buffer=os.path.join('Data', '01-Field_experiment_overview', 'Tab_2-Campaigns.csv'), \n",
    "                              sep=';')"
   ]
  },
  {
   "cell_type": "code",
   "execution_count": 3,
   "id": "7c0d3b4d",
   "metadata": {},
   "outputs": [],
   "source": [
    "# Convert the format of time from 'day.month.year' to 'year-month-day'\n",
    "campaigns_info.loc[:,'Start of measurements'] = pd.to_datetime(campaigns_info.loc[:,'Start of measurements'])\n",
    "campaigns_info.loc[:,'End of measurements'] = pd.to_datetime(campaigns_info.loc[:,'End of measurements'])\n",
    "\n",
    "# Loop every campaign and convert the instrument information in the 'campaigns_info' from number to instrument name based on the 'instrument_info'\n",
    "for icomp in campaigns_info.index:\n",
    "    # Get the instrument number list from 'campaigns_info'\n",
    "    instrument_num = campaigns_info.loc[icomp]['Instruments (Nos, see Table 1)'].split(',')\n",
    "    \n",
    "    # Get the instrument name list from 'instrument_info'\n",
    "    instrument_name_list = []\n",
    "    for i_ins in instrument_num:\n",
    "        instrument_name = instrument_info.loc[instrument_info.loc[:,'No']==int(i_ins)]['Instrument Name'].values[0]\n",
    "        instrument_name_list.append(instrument_name)\n",
    "        # Convert the name list to a string\n",
    "        str_instrument_name_list = ', '.join(map(str, instrument_name_list))\n",
    "        # Replace the instrument number with the instrument name\n",
    "        campaigns_info.loc[icomp,'Instruments (Nos, see Table 1)']=str_instrument_name_list"
   ]
  },
  {
   "cell_type": "markdown",
   "id": "1bbc8450",
   "metadata": {},
   "source": [
    "### Here is the processed 'campaigns_info'    "
   ]
  },
  {
   "cell_type": "code",
   "execution_count": 4,
   "id": "ddcc10f0",
   "metadata": {},
   "outputs": [
    {
     "data": {
      "text/html": [
       "<div>\n",
       "<style scoped>\n",
       "    .dataframe tbody tr th:only-of-type {\n",
       "        vertical-align: middle;\n",
       "    }\n",
       "\n",
       "    .dataframe tbody tr th {\n",
       "        vertical-align: top;\n",
       "    }\n",
       "\n",
       "    .dataframe thead th {\n",
       "        text-align: right;\n",
       "    }\n",
       "</style>\n",
       "<table border=\"1\" class=\"dataframe\">\n",
       "  <thead>\n",
       "    <tr style=\"text-align: right;\">\n",
       "      <th></th>\n",
       "      <th>Experiment Name</th>\n",
       "      <th>Start of measurements</th>\n",
       "      <th>End of measurements</th>\n",
       "      <th>Instruments (Nos, see Table 1)</th>\n",
       "    </tr>\n",
       "  </thead>\n",
       "  <tbody>\n",
       "    <tr>\n",
       "      <th>0</th>\n",
       "      <td>ASKOS</td>\n",
       "      <td>2021-06-25</td>\n",
       "      <td>2022-06-30</td>\n",
       "      <td>PollyXT_cpv, HALO-Timmy, HATPRO_Kiel</td>\n",
       "    </tr>\n",
       "    <tr>\n",
       "      <th>1</th>\n",
       "      <td>DACAPO-PESO</td>\n",
       "      <td>2018-11-27</td>\n",
       "      <td>2021-07-30</td>\n",
       "      <td>LACROS-Mira, LACROS-HATPRO, LACROS-Ceilo, LACR...</td>\n",
       "    </tr>\n",
       "    <tr>\n",
       "      <th>2</th>\n",
       "      <td>SO-284 (RV Sonne)</td>\n",
       "      <td>2021-06-27</td>\n",
       "      <td>2021-08-17</td>\n",
       "      <td>OCEANET_Arielle, OCEANET_HATPRO, OCEANET_Parsi...</td>\n",
       "    </tr>\n",
       "    <tr>\n",
       "      <th>3</th>\n",
       "      <td>PS127 (RV Polarstern)</td>\n",
       "      <td>2021-11-30</td>\n",
       "      <td>2021-12-31</td>\n",
       "      <td>OCEANET_Arielle, OCEANET_HATPRO</td>\n",
       "    </tr>\n",
       "    <tr>\n",
       "      <th>4</th>\n",
       "      <td>CLOUDLAB-1</td>\n",
       "      <td>2021-01-12</td>\n",
       "      <td>2022-03-15</td>\n",
       "      <td>LACROS-Mira, LACROS-HATPRO, LACROS-Ceilo, LACR...</td>\n",
       "    </tr>\n",
       "    <tr>\n",
       "      <th>5</th>\n",
       "      <td>LOSTECCA</td>\n",
       "      <td>2022-01-03</td>\n",
       "      <td>2022-04-15</td>\n",
       "      <td>LACROS-PollyXT, LACROS-Shaun</td>\n",
       "    </tr>\n",
       "    <tr>\n",
       "      <th>6</th>\n",
       "      <td>Morocco</td>\n",
       "      <td>2022-01-09</td>\n",
       "      <td>2022-09-30</td>\n",
       "      <td>PollyXT_tropos</td>\n",
       "    </tr>\n",
       "    <tr>\n",
       "      <th>7</th>\n",
       "      <td>CLOUDLAB-2</td>\n",
       "      <td>2022-01-12</td>\n",
       "      <td>2023-03-15</td>\n",
       "      <td>LACROS-Mira, LACROS-HATPRO, LACROS-Ceilo, LACR...</td>\n",
       "    </tr>\n",
       "    <tr>\n",
       "      <th>8</th>\n",
       "      <td>COALA</td>\n",
       "      <td>2023-01-01</td>\n",
       "      <td>2024-03-30</td>\n",
       "      <td>OCEANET_Arielle, OCEANET_HATPRO</td>\n",
       "    </tr>\n",
       "  </tbody>\n",
       "</table>\n",
       "</div>"
      ],
      "text/plain": [
       "         Experiment Name Start of measurements End of measurements  \\\n",
       "0                  ASKOS            2021-06-25          2022-06-30   \n",
       "1            DACAPO-PESO            2018-11-27          2021-07-30   \n",
       "2      SO-284 (RV Sonne)            2021-06-27          2021-08-17   \n",
       "3  PS127 (RV Polarstern)            2021-11-30          2021-12-31   \n",
       "4             CLOUDLAB-1            2021-01-12          2022-03-15   \n",
       "5               LOSTECCA            2022-01-03          2022-04-15   \n",
       "6                Morocco            2022-01-09          2022-09-30   \n",
       "7             CLOUDLAB-2            2022-01-12          2023-03-15   \n",
       "8                  COALA            2023-01-01          2024-03-30   \n",
       "\n",
       "                      Instruments (Nos, see Table 1)  \n",
       "0               PollyXT_cpv, HALO-Timmy, HATPRO_Kiel  \n",
       "1  LACROS-Mira, LACROS-HATPRO, LACROS-Ceilo, LACR...  \n",
       "2  OCEANET_Arielle, OCEANET_HATPRO, OCEANET_Parsi...  \n",
       "3                    OCEANET_Arielle, OCEANET_HATPRO  \n",
       "4  LACROS-Mira, LACROS-HATPRO, LACROS-Ceilo, LACR...  \n",
       "5                       LACROS-PollyXT, LACROS-Shaun  \n",
       "6                                     PollyXT_tropos  \n",
       "7  LACROS-Mira, LACROS-HATPRO, LACROS-Ceilo, LACR...  \n",
       "8                    OCEANET_Arielle, OCEANET_HATPRO  "
      ]
     },
     "execution_count": 4,
     "metadata": {},
     "output_type": "execute_result"
    }
   ],
   "source": [
    "campaigns_info"
   ]
  },
  {
   "cell_type": "markdown",
   "id": "4d1f874c",
   "metadata": {},
   "source": [
    "## 3. Create the Gantt chart with `python-gantt`\n",
    "\n",
    "Note that the gantt chart can be viewed in a **daily**, **weekly**, or **monthly** scale. Here I only show the chart in a monthly scale."
   ]
  },
  {
   "cell_type": "code",
   "execution_count": 5,
   "id": "a012a382",
   "metadata": {},
   "outputs": [],
   "source": [
    "# Get the color list from 'COLORBREWER 2.0'\n",
    "color_list = ['#8dd3c7','#ffffb3','#bebada','#fb8072','#80b1d3','#fdb462','#b3de69','#fccde5','#d9d9d9']\n",
    "\n",
    "# Set the font\n",
    "gantt.define_font_attributes(fill='black', font_family=\"Arial\")\n",
    "\n",
    "# Create a project\n",
    "p = gantt.Project(name='Field experiment name + instrument name')\n",
    "\n",
    "# Loop every campaign\n",
    "for i in campaigns_info.index:\n",
    "    campaign = campaigns_info.loc[i]\n",
    "    # Create a resource\n",
    "    r_instrument = gantt.Resource(campaign['Instruments (Nos, see Table 1)'])\n",
    "    # Create a task\n",
    "    task = gantt.Task(name=campaign['Experiment Name'], \n",
    "                      start=campaign['Start of measurements'], \n",
    "                      stop=campaign['End of measurements'], \n",
    "                      resources=[r_instrument],\n",
    "                      color=color_list[i])\n",
    "    \n",
    "    # Add the task to the project\n",
    "    p.add_task(task)\n",
    "    \n",
    "# Find the current time\n",
    "today_time =  date.today()\n",
    "\n",
    "# Export the Gantt chart in an svg format with a monthly scale\n",
    "os.makedirs('Results', exist_ok=True)\n",
    "p.make_svg_for_tasks(filename=os.path.join('Results', 'T01_field_experiments.svg'),\n",
    "                     today=date(today_time.year, today_time.month, today_time.day), scale='m')"
   ]
  },
  {
   "cell_type": "markdown",
   "id": "465713db",
   "metadata": {},
   "source": [
    "### Preview the Gantt chart\n",
    "\n",
    "Note that the boxes with different colors represent the 9 campaigns, where the black text indicates the campaign's name and the purple text indicates the instruments used. \n",
    "\n",
    "The purple block(s) in the 3rd, 7th, and 9th boxes suggest that the start or end date of the campaign is in the weekends."
   ]
  },
  {
   "cell_type": "code",
   "execution_count": 6,
   "id": "21d6a437",
   "metadata": {},
   "outputs": [
    {
     "data": {
      "image/svg+xml": [
       "<svg baseProfile=\"full\" height=\"460.62991\" version=\"1.1\" width=\"2338.58262\" xmlns=\"http://www.w3.org/2000/svg\" xmlns:ev=\"http://www.w3.org/2001/xml-events\" xmlns:xlink=\"http://www.w3.org/1999/xlink\"><defs/><rect fill=\"white\" height=\"460.62991\" opacity=\"1\" stroke-width=\"0\" width=\"2338.58262\" x=\"0.0\" y=\"0.0\"/><g><g id=\"vlines\" stroke=\"lightgray\"><line x1=\"0.0\" x2=\"0.0\" y1=\"70.86614\" y2=\"425.19684\"/><text fill=\"black\" font-family=\"Arial\" font-size=\"12\" stroke=\"black\" stroke-width=\"0\" x=\"3.543307\" y=\"67.322833\">11</text><line x1=\"35.43307\" x2=\"35.43307\" y1=\"70.86614\" y2=\"425.19684\"/><text fill=\"black\" font-family=\"Arial\" font-size=\"12\" stroke=\"black\" stroke-width=\"0\" x=\"38.976377\" y=\"67.322833\">12</text><line x1=\"70.86614\" x2=\"70.86614\" y1=\"70.86614\" y2=\"425.19684\"/><text fill=\"black\" font-family=\"Arial\" font-size=\"12\" stroke=\"black\" stroke-width=\"0\" x=\"74.409447\" y=\"67.322833\">01</text><text fill=\"#400000\" font-family=\"Arial\" font-size=\"20\" font-weight=\"bold\" stroke=\"#400000\" stroke-width=\"0\" x=\"74.409447\" y=\"17.716535\">2019</text><line x1=\"106.29921\" x2=\"106.29921\" y1=\"70.86614\" y2=\"425.19684\"/><text fill=\"black\" font-family=\"Arial\" font-size=\"12\" stroke=\"black\" stroke-width=\"0\" x=\"109.842517\" y=\"67.322833\">02</text><line x1=\"141.73228\" x2=\"141.73228\" y1=\"70.86614\" y2=\"425.19684\"/><text fill=\"black\" font-family=\"Arial\" font-size=\"12\" stroke=\"black\" stroke-width=\"0\" x=\"145.275587\" y=\"67.322833\">03</text><line x1=\"177.16535\" x2=\"177.16535\" y1=\"70.86614\" y2=\"425.19684\"/><text fill=\"black\" font-family=\"Arial\" font-size=\"12\" stroke=\"black\" stroke-width=\"0\" x=\"180.708657\" y=\"67.322833\">04</text><line x1=\"212.59842\" x2=\"212.59842\" y1=\"70.86614\" y2=\"425.19684\"/><text fill=\"black\" font-family=\"Arial\" font-size=\"12\" stroke=\"black\" stroke-width=\"0\" x=\"216.141727\" y=\"67.322833\">05</text><line x1=\"248.03149000000002\" x2=\"248.03149000000002\" y1=\"70.86614\" y2=\"425.19684\"/><text fill=\"black\" font-family=\"Arial\" font-size=\"12\" stroke=\"black\" stroke-width=\"0\" x=\"251.574797\" y=\"67.322833\">06</text><line x1=\"283.46456\" x2=\"283.46456\" y1=\"70.86614\" y2=\"425.19684\"/><text fill=\"black\" font-family=\"Arial\" font-size=\"12\" stroke=\"black\" stroke-width=\"0\" x=\"287.007867\" y=\"67.322833\">07</text><line x1=\"318.89763\" x2=\"318.89763\" y1=\"70.86614\" y2=\"425.19684\"/><text fill=\"black\" font-family=\"Arial\" font-size=\"12\" stroke=\"black\" stroke-width=\"0\" x=\"322.440937\" y=\"67.322833\">08</text><line x1=\"354.3307\" x2=\"354.3307\" y1=\"70.86614\" y2=\"425.19684\"/><text fill=\"black\" font-family=\"Arial\" font-size=\"12\" stroke=\"black\" stroke-width=\"0\" x=\"357.874007\" y=\"67.322833\">09</text><line x1=\"389.76377\" x2=\"389.76377\" y1=\"70.86614\" y2=\"425.19684\"/><text fill=\"black\" font-family=\"Arial\" font-size=\"12\" stroke=\"black\" stroke-width=\"0\" x=\"393.307077\" y=\"67.322833\">10</text><line x1=\"425.19684\" x2=\"425.19684\" y1=\"70.86614\" y2=\"425.19684\"/><text fill=\"black\" font-family=\"Arial\" font-size=\"12\" stroke=\"black\" stroke-width=\"0\" x=\"428.740147\" y=\"67.322833\">11</text><line x1=\"460.62991\" x2=\"460.62991\" y1=\"70.86614\" y2=\"425.19684\"/><text fill=\"black\" font-family=\"Arial\" font-size=\"12\" stroke=\"black\" stroke-width=\"0\" x=\"464.173217\" y=\"67.322833\">12</text><line x1=\"496.06298000000004\" x2=\"496.06298000000004\" y1=\"70.86614\" y2=\"425.19684\"/><text fill=\"black\" font-family=\"Arial\" font-size=\"12\" stroke=\"black\" stroke-width=\"0\" x=\"499.606287\" y=\"67.322833\">01</text><text fill=\"#400000\" font-family=\"Arial\" font-size=\"20\" font-weight=\"bold\" stroke=\"#400000\" stroke-width=\"0\" x=\"499.606287\" y=\"17.716535\">2020</text><line x1=\"531.49605\" x2=\"531.49605\" y1=\"70.86614\" y2=\"425.19684\"/><text fill=\"black\" font-family=\"Arial\" font-size=\"12\" stroke=\"black\" stroke-width=\"0\" x=\"535.039357\" y=\"67.322833\">02</text><line x1=\"566.92912\" x2=\"566.92912\" y1=\"70.86614\" y2=\"425.19684\"/><text fill=\"black\" font-family=\"Arial\" font-size=\"12\" stroke=\"black\" stroke-width=\"0\" x=\"570.472427\" y=\"67.322833\">03</text><line x1=\"602.36219\" x2=\"602.36219\" y1=\"70.86614\" y2=\"425.19684\"/><text fill=\"black\" font-family=\"Arial\" font-size=\"12\" stroke=\"black\" stroke-width=\"0\" x=\"605.905497\" y=\"67.322833\">04</text><line x1=\"637.79526\" x2=\"637.79526\" y1=\"70.86614\" y2=\"425.19684\"/><text fill=\"black\" font-family=\"Arial\" font-size=\"12\" stroke=\"black\" stroke-width=\"0\" x=\"641.338567\" y=\"67.322833\">05</text><line x1=\"673.22833\" x2=\"673.22833\" y1=\"70.86614\" y2=\"425.19684\"/><text fill=\"black\" font-family=\"Arial\" font-size=\"12\" stroke=\"black\" stroke-width=\"0\" x=\"676.7716369999999\" y=\"67.322833\">06</text><line x1=\"708.6614\" x2=\"708.6614\" y1=\"70.86614\" y2=\"425.19684\"/><text fill=\"black\" font-family=\"Arial\" font-size=\"12\" stroke=\"black\" stroke-width=\"0\" x=\"712.204707\" y=\"67.322833\">07</text><line x1=\"744.09447\" x2=\"744.09447\" y1=\"70.86614\" y2=\"425.19684\"/><text fill=\"black\" font-family=\"Arial\" font-size=\"12\" stroke=\"black\" stroke-width=\"0\" x=\"747.637777\" y=\"67.322833\">08</text><line x1=\"779.52754\" x2=\"779.52754\" y1=\"70.86614\" y2=\"425.19684\"/><text fill=\"black\" font-family=\"Arial\" font-size=\"12\" stroke=\"black\" stroke-width=\"0\" x=\"783.070847\" y=\"67.322833\">09</text><line x1=\"814.96061\" x2=\"814.96061\" y1=\"70.86614\" y2=\"425.19684\"/><text fill=\"black\" font-family=\"Arial\" font-size=\"12\" stroke=\"black\" stroke-width=\"0\" x=\"818.503917\" y=\"67.322833\">10</text><line x1=\"850.39368\" x2=\"850.39368\" y1=\"70.86614\" y2=\"425.19684\"/><text fill=\"black\" font-family=\"Arial\" font-size=\"12\" stroke=\"black\" stroke-width=\"0\" x=\"853.936987\" y=\"67.322833\">11</text><line x1=\"885.8267500000001\" x2=\"885.8267500000001\" y1=\"70.86614\" y2=\"425.19684\"/><text fill=\"black\" font-family=\"Arial\" font-size=\"12\" stroke=\"black\" stroke-width=\"0\" x=\"889.370057\" y=\"67.322833\">12</text><line x1=\"921.25982\" x2=\"921.25982\" y1=\"70.86614\" y2=\"425.19684\"/><text fill=\"black\" font-family=\"Arial\" font-size=\"12\" stroke=\"black\" stroke-width=\"0\" x=\"924.803127\" y=\"67.322833\">01</text><text fill=\"#400000\" font-family=\"Arial\" font-size=\"20\" font-weight=\"bold\" stroke=\"#400000\" stroke-width=\"0\" x=\"924.803127\" y=\"17.716535\">2021</text><line x1=\"956.69289\" x2=\"956.69289\" y1=\"70.86614\" y2=\"425.19684\"/><text fill=\"black\" font-family=\"Arial\" font-size=\"12\" stroke=\"black\" stroke-width=\"0\" x=\"960.236197\" y=\"67.322833\">02</text><line x1=\"992.1259600000001\" x2=\"992.1259600000001\" y1=\"70.86614\" y2=\"425.19684\"/><text fill=\"black\" font-family=\"Arial\" font-size=\"12\" stroke=\"black\" stroke-width=\"0\" x=\"995.669267\" y=\"67.322833\">03</text><line x1=\"1027.5590300000001\" x2=\"1027.5590300000001\" y1=\"70.86614\" y2=\"425.19684\"/><text fill=\"black\" font-family=\"Arial\" font-size=\"12\" stroke=\"black\" stroke-width=\"0\" x=\"1031.102337\" y=\"67.322833\">04</text><line x1=\"1062.9921\" x2=\"1062.9921\" y1=\"70.86614\" y2=\"425.19684\"/><text fill=\"black\" font-family=\"Arial\" font-size=\"12\" stroke=\"black\" stroke-width=\"0\" x=\"1066.535407\" y=\"67.322833\">05</text><line x1=\"1098.42517\" x2=\"1098.42517\" y1=\"70.86614\" y2=\"425.19684\"/><text fill=\"black\" font-family=\"Arial\" font-size=\"12\" stroke=\"black\" stroke-width=\"0\" x=\"1101.968477\" y=\"67.322833\">06</text><line x1=\"1133.85824\" x2=\"1133.85824\" y1=\"70.86614\" y2=\"425.19684\"/><text fill=\"black\" font-family=\"Arial\" font-size=\"12\" stroke=\"black\" stroke-width=\"0\" x=\"1137.401547\" y=\"67.322833\">07</text><line x1=\"1169.29131\" x2=\"1169.29131\" y1=\"70.86614\" y2=\"425.19684\"/><text fill=\"black\" font-family=\"Arial\" font-size=\"12\" stroke=\"black\" stroke-width=\"0\" x=\"1172.834617\" y=\"67.322833\">08</text><line x1=\"1204.72438\" x2=\"1204.72438\" y1=\"70.86614\" y2=\"425.19684\"/><text fill=\"black\" font-family=\"Arial\" font-size=\"12\" stroke=\"black\" stroke-width=\"0\" x=\"1208.267687\" y=\"67.322833\">09</text><line x1=\"1240.15745\" x2=\"1240.15745\" y1=\"70.86614\" y2=\"425.19684\"/><text fill=\"black\" font-family=\"Arial\" font-size=\"12\" stroke=\"black\" stroke-width=\"0\" x=\"1243.700757\" y=\"67.322833\">10</text><line x1=\"1275.59052\" x2=\"1275.59052\" y1=\"70.86614\" y2=\"425.19684\"/><text fill=\"black\" font-family=\"Arial\" font-size=\"12\" stroke=\"black\" stroke-width=\"0\" x=\"1279.1338269999999\" y=\"67.322833\">11</text><line x1=\"1311.02359\" x2=\"1311.02359\" y1=\"70.86614\" y2=\"425.19684\"/><text fill=\"black\" font-family=\"Arial\" font-size=\"12\" stroke=\"black\" stroke-width=\"0\" x=\"1314.566897\" y=\"67.322833\">12</text><line x1=\"1346.45666\" x2=\"1346.45666\" y1=\"70.86614\" y2=\"425.19684\"/><text fill=\"black\" font-family=\"Arial\" font-size=\"12\" stroke=\"black\" stroke-width=\"0\" x=\"1349.999967\" y=\"67.322833\">01</text><text fill=\"#400000\" font-family=\"Arial\" font-size=\"20\" font-weight=\"bold\" stroke=\"#400000\" stroke-width=\"0\" x=\"1349.999967\" y=\"17.716535\">2022</text><line x1=\"1381.88973\" x2=\"1381.88973\" y1=\"70.86614\" y2=\"425.19684\"/><text fill=\"black\" font-family=\"Arial\" font-size=\"12\" stroke=\"black\" stroke-width=\"0\" x=\"1385.433037\" y=\"67.322833\">02</text><line x1=\"1417.3228\" x2=\"1417.3228\" y1=\"70.86614\" y2=\"425.19684\"/><text fill=\"black\" font-family=\"Arial\" font-size=\"12\" stroke=\"black\" stroke-width=\"0\" x=\"1420.866107\" y=\"67.322833\">03</text><line x1=\"1452.75587\" x2=\"1452.75587\" y1=\"70.86614\" y2=\"425.19684\"/><text fill=\"black\" font-family=\"Arial\" font-size=\"12\" stroke=\"black\" stroke-width=\"0\" x=\"1456.299177\" y=\"67.322833\">04</text><line x1=\"1488.18894\" x2=\"1488.18894\" y1=\"70.86614\" y2=\"425.19684\"/><text fill=\"black\" font-family=\"Arial\" font-size=\"12\" stroke=\"black\" stroke-width=\"0\" x=\"1491.732247\" y=\"67.322833\">05</text><line x1=\"1523.62201\" x2=\"1523.62201\" y1=\"70.86614\" y2=\"425.19684\"/><text fill=\"black\" font-family=\"Arial\" font-size=\"12\" stroke=\"black\" stroke-width=\"0\" x=\"1527.165317\" y=\"67.322833\">06</text><line x1=\"1559.05508\" x2=\"1559.05508\" y1=\"70.86614\" y2=\"425.19684\"/><text fill=\"black\" font-family=\"Arial\" font-size=\"12\" stroke=\"black\" stroke-width=\"0\" x=\"1562.598387\" y=\"67.322833\">07</text><line x1=\"1594.4881500000001\" x2=\"1594.4881500000001\" y1=\"70.86614\" y2=\"425.19684\"/><text fill=\"black\" font-family=\"Arial\" font-size=\"12\" stroke=\"black\" stroke-width=\"0\" x=\"1598.031457\" y=\"67.322833\">08</text><line x1=\"1629.92122\" x2=\"1629.92122\" y1=\"70.86614\" y2=\"425.19684\"/><text fill=\"black\" font-family=\"Arial\" font-size=\"12\" stroke=\"black\" stroke-width=\"0\" x=\"1633.464527\" y=\"67.322833\">09</text><line x1=\"1665.35429\" x2=\"1665.35429\" y1=\"70.86614\" y2=\"425.19684\"/><text fill=\"black\" font-family=\"Arial\" font-size=\"12\" stroke=\"black\" stroke-width=\"0\" x=\"1668.897597\" y=\"67.322833\">10</text><line x1=\"1700.78736\" x2=\"1700.78736\" y1=\"70.86614\" y2=\"425.19684\"/><text fill=\"black\" font-family=\"Arial\" font-size=\"12\" stroke=\"black\" stroke-width=\"0\" x=\"1704.330667\" y=\"67.322833\">11</text><line x1=\"1736.22043\" x2=\"1736.22043\" y1=\"70.86614\" y2=\"425.19684\"/><text fill=\"black\" font-family=\"Arial\" font-size=\"12\" stroke=\"black\" stroke-width=\"0\" x=\"1739.763737\" y=\"67.322833\">12</text><line x1=\"1771.6535000000001\" x2=\"1771.6535000000001\" y1=\"70.86614\" y2=\"425.19684\"/><text fill=\"black\" font-family=\"Arial\" font-size=\"12\" stroke=\"black\" stroke-width=\"0\" x=\"1775.196807\" y=\"67.322833\">01</text><text fill=\"#400000\" font-family=\"Arial\" font-size=\"20\" font-weight=\"bold\" stroke=\"#400000\" stroke-width=\"0\" x=\"1775.196807\" y=\"17.716535\">2023</text><line x1=\"1807.08657\" x2=\"1807.08657\" y1=\"70.86614\" y2=\"425.19684\"/><text fill=\"black\" font-family=\"Arial\" font-size=\"12\" stroke=\"black\" stroke-width=\"0\" x=\"1810.629877\" y=\"67.322833\">02</text><line x1=\"1842.51964\" x2=\"1842.51964\" y1=\"70.86614\" y2=\"425.19684\"/><text fill=\"black\" font-family=\"Arial\" font-size=\"12\" stroke=\"black\" stroke-width=\"0\" x=\"1846.062947\" y=\"67.322833\">03</text><line x1=\"1877.95271\" x2=\"1877.95271\" y1=\"70.86614\" y2=\"425.19684\"/><text fill=\"black\" font-family=\"Arial\" font-size=\"12\" stroke=\"black\" stroke-width=\"0\" x=\"1881.496017\" y=\"67.322833\">04</text><line x1=\"1913.38578\" x2=\"1913.38578\" y1=\"70.86614\" y2=\"425.19684\"/><text fill=\"black\" font-family=\"Arial\" font-size=\"12\" stroke=\"black\" stroke-width=\"0\" x=\"1916.929087\" y=\"67.322833\">05</text><line x1=\"1948.81885\" x2=\"1948.81885\" y1=\"70.86614\" y2=\"425.19684\"/><text fill=\"black\" font-family=\"Arial\" font-size=\"12\" stroke=\"black\" stroke-width=\"0\" x=\"1952.362157\" y=\"67.322833\">06</text><line x1=\"1984.2519200000002\" x2=\"1984.2519200000002\" y1=\"70.86614\" y2=\"425.19684\"/><text fill=\"black\" font-family=\"Arial\" font-size=\"12\" stroke=\"black\" stroke-width=\"0\" x=\"1987.795227\" y=\"67.322833\">07</text><line x1=\"2019.68499\" x2=\"2019.68499\" y1=\"70.86614\" y2=\"425.19684\"/><text fill=\"black\" font-family=\"Arial\" font-size=\"12\" stroke=\"black\" stroke-width=\"0\" x=\"2023.2282969999999\" y=\"67.322833\">08</text><line x1=\"2055.1180600000002\" x2=\"2055.1180600000002\" y1=\"70.86614\" y2=\"425.19684\"/><text fill=\"black\" font-family=\"Arial\" font-size=\"12\" stroke=\"black\" stroke-width=\"0\" x=\"2058.661367\" y=\"67.322833\">09</text><line x1=\"2090.55113\" x2=\"2090.55113\" y1=\"70.86614\" y2=\"425.19684\"/><text fill=\"black\" font-family=\"Arial\" font-size=\"12\" stroke=\"black\" stroke-width=\"0\" x=\"2094.094437\" y=\"67.322833\">10</text><line x1=\"2125.9842\" x2=\"2125.9842\" y1=\"70.86614\" y2=\"425.19684\"/><text fill=\"black\" font-family=\"Arial\" font-size=\"12\" stroke=\"black\" stroke-width=\"0\" x=\"2129.527507\" y=\"67.322833\">11</text><line x1=\"2161.41727\" x2=\"2161.41727\" y1=\"70.86614\" y2=\"425.19684\"/><text fill=\"black\" font-family=\"Arial\" font-size=\"12\" stroke=\"black\" stroke-width=\"0\" x=\"2164.960577\" y=\"67.322833\">12</text><line x1=\"2196.85034\" x2=\"2196.85034\" y1=\"70.86614\" y2=\"425.19684\"/><text fill=\"black\" font-family=\"Arial\" font-size=\"12\" stroke=\"black\" stroke-width=\"0\" x=\"2200.393647\" y=\"67.322833\">01</text><text fill=\"#400000\" font-family=\"Arial\" font-size=\"20\" font-weight=\"bold\" stroke=\"#400000\" stroke-width=\"0\" x=\"2200.393647\" y=\"17.716535\">2024</text><line x1=\"2232.28341\" x2=\"2232.28341\" y1=\"70.86614\" y2=\"425.19684\"/><text fill=\"black\" font-family=\"Arial\" font-size=\"12\" stroke=\"black\" stroke-width=\"0\" x=\"2235.826717\" y=\"67.322833\">02</text><line x1=\"2267.71648\" x2=\"2267.71648\" y1=\"70.86614\" y2=\"425.19684\"/><text fill=\"black\" font-family=\"Arial\" font-size=\"12\" stroke=\"black\" stroke-width=\"0\" x=\"2271.259787\" y=\"67.322833\">03</text><line x1=\"2303.14955\" x2=\"2303.14955\" y1=\"70.86614\" y2=\"425.19684\"/><text fill=\"black\" font-family=\"Arial\" font-size=\"12\" stroke=\"black\" stroke-width=\"0\" x=\"2306.692857\" y=\"67.322833\">04</text><line x1=\"2338.58262\" x2=\"2338.58262\" y1=\"70.86614\" y2=\"425.19684\"/></g><g id=\"hlines\" stroke=\"lightgray\"><line x1=\"0.0\" x2=\"2338.58262\" y1=\"70.86614\" y2=\"70.86614\"/><line x1=\"0.0\" x2=\"2338.58262\" y1=\"106.29921\" y2=\"106.29921\"/><line x1=\"0.0\" x2=\"2338.58262\" y1=\"141.73228\" y2=\"141.73228\"/><line x1=\"0.0\" x2=\"2338.58262\" y1=\"177.16535\" y2=\"177.16535\"/><line x1=\"0.0\" x2=\"2338.58262\" y1=\"212.59842\" y2=\"212.59842\"/><line x1=\"0.0\" x2=\"2338.58262\" y1=\"248.03149000000002\" y2=\"248.03149000000002\"/><line x1=\"0.0\" x2=\"2338.58262\" y1=\"283.46456\" y2=\"283.46456\"/><line x1=\"0.0\" x2=\"2338.58262\" y1=\"318.89763\" y2=\"318.89763\"/><line x1=\"0.0\" x2=\"2338.58262\" y1=\"354.3307\" y2=\"354.3307\"/><line x1=\"0.0\" x2=\"2338.58262\" y1=\"389.76377\" y2=\"389.76377\"/><line x1=\"0.0\" x2=\"2338.58262\" y1=\"425.19684\" y2=\"425.19684\"/></g><line stroke=\"black\" x1=\"0.0\" x2=\"2338.58262\" y1=\"70.86614\" y2=\"70.86614\"/><line stroke=\"black\" x1=\"0.0\" x2=\"2338.58262\" y1=\"425.19684\" y2=\"425.19684\"/></g><g><g><text fill=\"black\" font-family=\"Arial\" font-size=\"18\" stroke=\"black\" stroke-width=\"0\" x=\"10.629921\" y=\"95.669289\">Field experiment name + instrument name</text><rect fill=\"purple\" height=\"333.07085800000004\" opacity=\"0.5\" stroke=\"lightgray\" stroke-width=\"0\" width=\"7.086614000000001\" x=\"2.8346456\" y=\"88.582675\"/><g><g id=\"ASKOS\"><rect fill=\"#8dd3c7\" height=\"28.346456\" opacity=\"0.85\" stroke=\"#8dd3c7\" stroke-width=\"2\" width=\"453.543296\" x=\"1066.535407\" y=\"109.842517\"/><rect fill=\"#909090\" height=\"10.629921\" opacity=\"0.2\" stroke=\"#8dd3c7\" stroke-width=\"1\" width=\"453.543296\" x=\"1066.535407\" y=\"127.559052\"/><text fill=\"black\" font-family=\"Arial\" font-size=\"15\" stroke=\"black\" stroke-width=\"0\" x=\"1070.078714\" y=\"124.015745\">ASKOS</text><text fill=\"purple\" font-family=\"Arial\" font-size=\"10\" stroke=\"black\" stroke-width=\"0\" x=\"1070.078714\" y=\"136.4173195\">PollyXT_cpv, HALO-Timmy, HATPRO_Kiel</text></g><g id=\"DACAPO-PESO\"><rect fill=\"#ffffb3\" height=\"28.346456\" opacity=\"0.85\" stroke=\"#ffffb3\" stroke-width=\"2\" width=\"1162.204696\" x=\"3.543307\" y=\"145.275587\"/><rect fill=\"#909090\" height=\"10.629921\" opacity=\"0.2\" stroke=\"#ffffb3\" stroke-width=\"1\" width=\"1162.204696\" x=\"3.543307\" y=\"162.992122\"/><text fill=\"black\" font-family=\"Arial\" font-size=\"15\" stroke=\"black\" stroke-width=\"0\" x=\"7.086614\" y=\"159.448815\">DACAPO-PESO</text><text fill=\"purple\" font-family=\"Arial\" font-size=\"10\" stroke=\"black\" stroke-width=\"0\" x=\"7.086614\" y=\"171.8503895\">LACROS-Mira, LACROS-HATPRO, LACROS-Ceilo, LACROS-Parsivel, LACROS-PollyXT, LACROS-Shaun, LACROS-MRR, LACROS-Mordor, LACROS-Cimel</text></g><g id=\"SO-284__RV_Sonne_\"><rect fill=\"#bebada\" height=\"28.346456\" opacity=\"0.85\" stroke=\"#bebada\" stroke-width=\"2\" width=\"63.779526\" x=\"1101.968477\" y=\"180.708657\"/><rect fill=\"#909090\" height=\"10.629921\" opacity=\"0.2\" stroke=\"#bebada\" stroke-width=\"1\" width=\"63.779526\" x=\"1101.968477\" y=\"198.425192\"/><rect fill=\"#0000FF\" height=\"14.173228\" opacity=\"0.35\" stroke=\"#bebada\" stroke-width=\"1\" width=\"17.716535\" x=\"1101.968477\" y=\"180.708657\"/><text fill=\"black\" font-family=\"Arial\" font-size=\"15\" stroke=\"black\" stroke-width=\"0\" x=\"1105.511784\" y=\"194.881885\">SO-284 (RV Sonne)</text><text fill=\"purple\" font-family=\"Arial\" font-size=\"10\" stroke=\"black\" stroke-width=\"0\" x=\"1105.511784\" y=\"207.2834595\">OCEANET_Arielle, OCEANET_HATPRO, OCEANET_Parsivel, LITRA Windlidar</text></g><g id=\"PS127__RV_Polarstern_\"><rect fill=\"#fb8072\" height=\"28.346456\" opacity=\"0.85\" stroke=\"#fb8072\" stroke-width=\"2\" width=\"63.779526\" x=\"1279.1338269999999\" y=\"216.141727\"/><rect fill=\"#909090\" height=\"10.629921\" opacity=\"0.2\" stroke=\"#fb8072\" stroke-width=\"1\" width=\"63.779526\" x=\"1279.1338269999999\" y=\"233.858262\"/><text fill=\"black\" font-family=\"Arial\" font-size=\"15\" stroke=\"black\" stroke-width=\"0\" x=\"1282.677134\" y=\"230.314955\">PS127 (RV Polarstern)</text><text fill=\"purple\" font-family=\"Arial\" font-size=\"10\" stroke=\"black\" stroke-width=\"0\" x=\"1282.677134\" y=\"242.7165295\">OCEANET_Arielle, OCEANET_HATPRO</text></g><g id=\"CLOUDLAB-1\"><rect fill=\"#80b1d3\" height=\"28.346456\" opacity=\"0.85\" stroke=\"#80b1d3\" stroke-width=\"2\" width=\"524.409436\" x=\"889.370057\" y=\"251.574797\"/><rect fill=\"#909090\" height=\"10.629921\" opacity=\"0.2\" stroke=\"#80b1d3\" stroke-width=\"1\" width=\"524.409436\" x=\"889.370057\" y=\"269.291332\"/><text fill=\"black\" font-family=\"Arial\" font-size=\"15\" stroke=\"black\" stroke-width=\"0\" x=\"892.913364\" y=\"265.748025\">CLOUDLAB-1</text><text fill=\"purple\" font-family=\"Arial\" font-size=\"10\" stroke=\"black\" stroke-width=\"0\" x=\"892.913364\" y=\"278.1495995\">LACROS-Mira, LACROS-HATPRO, LACROS-Ceilo, LACROS-Parsivel, LACROS-PollyXT, LACROS-Shaun, LACROS-MRR, LACROS-Mordor, LACROS-Cimel</text></g><g id=\"LOSTECCA\"><rect fill=\"#fdb462\" height=\"28.346456\" opacity=\"0.85\" stroke=\"#fdb462\" stroke-width=\"2\" width=\"134.645666\" x=\"1314.566897\" y=\"287.007867\"/><rect fill=\"#909090\" height=\"10.629921\" opacity=\"0.2\" stroke=\"#fdb462\" stroke-width=\"1\" width=\"134.645666\" x=\"1314.566897\" y=\"304.724402\"/><text fill=\"black\" font-family=\"Arial\" font-size=\"15\" stroke=\"black\" stroke-width=\"0\" x=\"1318.110204\" y=\"301.18109499999997\">LOSTECCA</text><text fill=\"purple\" font-family=\"Arial\" font-size=\"10\" stroke=\"black\" stroke-width=\"0\" x=\"1318.110204\" y=\"313.5826695\">LACROS-PollyXT, LACROS-Shaun</text></g><g id=\"Morocco\"><rect fill=\"#b3de69\" height=\"28.346456\" opacity=\"0.85\" stroke=\"#b3de69\" stroke-width=\"2\" width=\"311.811016\" x=\"1314.566897\" y=\"322.440937\"/><rect fill=\"#909090\" height=\"10.629921\" opacity=\"0.2\" stroke=\"#b3de69\" stroke-width=\"1\" width=\"311.811016\" x=\"1314.566897\" y=\"340.157472\"/><rect fill=\"#0000FF\" height=\"14.173228\" opacity=\"0.35\" stroke=\"#b3de69\" stroke-width=\"1\" width=\"17.716535\" x=\"1314.566897\" y=\"322.440937\"/><text fill=\"black\" font-family=\"Arial\" font-size=\"15\" stroke=\"black\" stroke-width=\"0\" x=\"1318.110204\" y=\"336.614165\">Morocco</text><text fill=\"purple\" font-family=\"Arial\" font-size=\"10\" stroke=\"black\" stroke-width=\"0\" x=\"1318.110204\" y=\"349.0157395\">PollyXT_tropos</text></g><g id=\"CLOUDLAB-2\"><rect fill=\"#fccde5\" height=\"28.346456\" opacity=\"0.85\" stroke=\"#fccde5\" stroke-width=\"2\" width=\"524.409436\" x=\"1314.566897\" y=\"357.874007\"/><rect fill=\"#909090\" height=\"10.629921\" opacity=\"0.2\" stroke=\"#fccde5\" stroke-width=\"1\" width=\"524.409436\" x=\"1314.566897\" y=\"375.59054199999997\"/><text fill=\"black\" font-family=\"Arial\" font-size=\"15\" stroke=\"black\" stroke-width=\"0\" x=\"1318.110204\" y=\"372.047235\">CLOUDLAB-2</text><text fill=\"purple\" font-family=\"Arial\" font-size=\"10\" stroke=\"black\" stroke-width=\"0\" x=\"1318.110204\" y=\"384.4488095\">LACROS-Mira, LACROS-HATPRO, LACROS-Ceilo, LACROS-Parsivel, LACROS-PollyXT, LACROS-Shaun, LACROS-MRR, LACROS-Mordor, LACROS-Cimel</text></g><g id=\"COALA\"><rect fill=\"#d9d9d9\" height=\"28.346456\" opacity=\"0.85\" stroke=\"#d9d9d9\" stroke-width=\"2\" width=\"524.409436\" x=\"1739.763737\" y=\"393.307077\"/><rect fill=\"#909090\" height=\"10.629921\" opacity=\"0.2\" stroke=\"#d9d9d9\" stroke-width=\"1\" width=\"524.409436\" x=\"1739.763737\" y=\"411.023612\"/><rect fill=\"#0000FF\" height=\"14.173228\" opacity=\"0.35\" stroke=\"#d9d9d9\" stroke-width=\"1\" width=\"17.716535\" x=\"1739.763737\" y=\"393.307077\"/><rect fill=\"#0000FF\" height=\"14.173228\" opacity=\"0.35\" stroke=\"#d9d9d9\" stroke-width=\"1\" width=\"17.716535\" x=\"2246.456638\" y=\"393.307077\"/><text fill=\"black\" font-family=\"Arial\" font-size=\"15\" stroke=\"black\" stroke-width=\"0\" x=\"1743.307044\" y=\"407.480305\">COALA</text><text fill=\"purple\" font-family=\"Arial\" font-size=\"10\" stroke=\"black\" stroke-width=\"0\" x=\"1743.307044\" y=\"419.8818795\">OCEANET_Arielle, OCEANET_HATPRO</text></g></g></g><g/></g></svg>"
      ],
      "text/plain": [
       "<IPython.core.display.SVG object>"
      ]
     },
     "execution_count": 6,
     "metadata": {},
     "output_type": "execute_result"
    }
   ],
   "source": [
    "SVG(os.path.join('Results', 'T01_field_experiments.svg'))"
   ]
  },
  {
   "cell_type": "markdown",
   "id": "9ea6612d",
   "metadata": {},
   "source": [
    "## 4. Convert '.svg' to '.png'"
   ]
  },
  {
   "cell_type": "code",
   "execution_count": 7,
   "id": "2ed661f9",
   "metadata": {
    "scrolled": false
   },
   "outputs": [],
   "source": [
    "cairosvg.svg2png(url=os.path.join('Results', 'T01_field_experiments.svg'), \n",
    "                 write_to=os.path.join('Results', 'T01_field_experiments.png'),\n",
    "                 dpi=300)"
   ]
  }
 ],
 "metadata": {
  "kernelspec": {
   "display_name": "Python 3 (ipykernel)",
   "language": "python",
   "name": "python3"
  },
  "language_info": {
   "codemirror_mode": {
    "name": "ipython",
    "version": 3
   },
   "file_extension": ".py",
   "mimetype": "text/x-python",
   "name": "python",
   "nbconvert_exporter": "python",
   "pygments_lexer": "ipython3",
   "version": "3.7.10"
  },
  "varInspector": {
   "cols": {
    "lenName": 16,
    "lenType": 16,
    "lenVar": 40
   },
   "kernels_config": {
    "python": {
     "delete_cmd_postfix": "",
     "delete_cmd_prefix": "del ",
     "library": "var_list.py",
     "varRefreshCmd": "print(var_dic_list())"
    },
    "r": {
     "delete_cmd_postfix": ") ",
     "delete_cmd_prefix": "rm(",
     "library": "var_list.r",
     "varRefreshCmd": "cat(var_dic_list()) "
    }
   },
   "types_to_exclude": [
    "module",
    "function",
    "builtin_function_or_method",
    "instance",
    "_Feature"
   ],
   "window_display": false
  }
 },
 "nbformat": 4,
 "nbformat_minor": 5
}
